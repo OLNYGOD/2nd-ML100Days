{
 "cells": [
  {
   "cell_type": "markdown",
   "metadata": {},
   "source": [
    "## 練習時間\n",
    "#### 請寫一個函式用來計算 Mean Square Error\n",
    "$ MSE = \\frac{1}{n}\\sum_{i=1}^{n}{(Y_i - \\hat{Y}_i)^2} $\n",
    "\n",
    "### Hint: [如何取平方](https://googoodesign.gitbooks.io/-ezpython/unit-1.html)"
   ]
  },
  {
   "cell_type": "code",
   "execution_count": 80,
   "metadata": {},
   "outputs": [
    {
     "data": {
      "text/plain": [
       "'請上 Kaggle, 在 Competitions 或 Dataset 中找一組競賽或資料並寫下：\\n\\n1. 你選的這組資料為何重要 可以觀察NCAA中，那些哪隊是常勝軍，那些哪員較受到NBA青睞，在未來哪些球員為令人期待的，他該具備那些特質\\n\\n2. 資料從何而來 (tips: 譬如提供者是誰、以什麼方式蒐集) Sportradar LLC 和 NCAA 為版權擁有者\\n\\n3. 蒐集而來的資料型態為何 結構化資料:如球員數據,球隊勝負,最終冠軍等\\n\\n4. 這組資料想解決的問題如何評估 球員潛力特質，球隊特色，以提供NBA球隊了解各個球員的潛力及能力及未來性'"
      ]
     },
     "execution_count": 80,
     "metadata": {},
     "output_type": "execute_result"
    }
   ],
   "source": [
    "\"\"\"請上 Kaggle, 在 Competitions 或 Dataset 中找一組競賽或資料並寫下：\n",
    "\n",
    "1. 你選的這組資料為何重要 可以觀察NCAA中，那些哪隊是常勝軍，那些哪員較受到NBA青睞，在未來哪些球員為令人期待的，他該具備那些特質\n",
    "\n",
    "2. 資料從何而來 (tips: 譬如提供者是誰、以什麼方式蒐集) Sportradar LLC 和 NCAA 為版權擁有者\n",
    "\n",
    "3. 蒐集而來的資料型態為何 結構化資料:如球員數據,球隊勝負,最終冠軍等\n",
    "\n",
    "4. 這組資料想解決的問題如何評估 球員潛力特質，球隊特色，以提供NBA球隊了解各個球員的潛力及能力及未來性\"\"\""
   ]
  },
  {
   "cell_type": "code",
   "execution_count": 81,
   "metadata": {},
   "outputs": [
    {
     "data": {
      "text/plain": [
       "'想像你經營一個自由載客車隊，你希望能透過數據分析以提升業績，請你思考並描述你如何規劃整體的分析/解決方案：\\n\\n1. 核心問題為何 (tips：如何定義 「提升業績 & 你的假設」)提升業績的定義為增加收入同時減少支出，會搭車的人假設為有時間壓力(如工作，約會，旅遊等)\\n，重感受(如下雨天或是舒適感)或是不方便者(飲酒，疲勞，不熟悉路線等)\\n\\n2. 資料從何而來 (tips：哪些資料可能會對你想問的問題產生影響 & 資料如何蒐集) 如大眾交通路線時刻表(高鐵，台鐵，機場)，觀光景點人潮統計(人流月份)\\n，天氣預測，周遭商家性質或是商業中心消費能力較高地區，從政府開放式資料集，觀光部統計，氣象局資料等，財政部人均所得較高地區，或是商家資料收集\\n\\n3. 蒐集而來的資料型態為何 半結構化(人數，時間，年均所得等)，非結構化(商家性質，路線等)\\n\\n4. 你要回答的問題，其如何評估 (tips：你的假設如何驗證)利用回歸來分別對人潮和時間，天氣和時間和地區和時間分別做預測，人潮多時段看載客量的上升(上下班，假日)，\\n或是天氣好壞載客量的提升與否，深夜某些特定地區的載客量是否提升'"
      ]
     },
     "execution_count": 81,
     "metadata": {},
     "output_type": "execute_result"
    }
   ],
   "source": [
    "\"\"\"想像你經營一個自由載客車隊，你希望能透過數據分析以提升業績，請你思考並描述你如何規劃整體的分析/解決方案：\n",
    "\n",
    "1. 核心問題為何 (tips：如何定義 「提升業績 & 你的假設」)提升業績的定義為增加收入同時減少支出，會搭車的人假設為有時間壓力(如工作，約會，旅遊等)\n",
    "，重感受(如下雨天或是舒適感)或是不方便者(飲酒，疲勞，不熟悉路線等)\n",
    "\n",
    "2. 資料從何而來 (tips：哪些資料可能會對你想問的問題產生影響 & 資料如何蒐集) 如大眾交通路線時刻表(高鐵，台鐵，機場)，觀光景點人潮統計(人流月份)\n",
    "，天氣預測，周遭商家性質或是商業中心消費能力較高地區，從政府開放式資料集，觀光部統計，氣象局資料等，財政部人均所得較高地區，或是商家資料收集\n",
    "\n",
    "3. 蒐集而來的資料型態為何 半結構化(人數，時間，年均所得等)，非結構化(商家性質，路線等)\n",
    "\n",
    "4. 你要回答的問題，其如何評估 (tips：你的假設如何驗證)利用回歸來分別對人潮和時間，天氣和時間和地區和時間分別做預測，人潮多時段看載客量的上升(上下班，假日)，\n",
    "或是天氣好壞載客量的提升與否，深夜某些特定地區的載客量是否提升\"\"\""
   ]
  },
  {
   "cell_type": "code",
   "execution_count": 82,
   "metadata": {},
   "outputs": [],
   "source": [
    "import numpy as np\n",
    "import matplotlib.pyplot as plt\n",
    "import math"
   ]
  },
  {
   "cell_type": "code",
   "execution_count": 83,
   "metadata": {
    "scrolled": true
   },
   "outputs": [],
   "source": [
    "def mean_squared_error(y ,yp):\n",
    "    \"\"\"\n",
    "    請完成這個 Function 後往下執行\n",
    "    \"\"\"\n",
    "    mse = MSE = sum((y - yp)**2) / len(y)\n",
    "    return mse"
   ]
  },
  {
   "cell_type": "code",
   "execution_count": 84,
   "metadata": {},
   "outputs": [
    {
     "data": {
      "image/png": "[encoded data removed]",
      "text/plain": [
       "<Figure size 432x288 with 1 Axes>"
      ]
     },
     "metadata": {},
     "output_type": "display_data"
    }
   ],
   "source": [
    "w = 3\n",
    "b = 0.5\n",
    "\n",
    "x_lin = np.linspace(0, 100, 101)\n",
    "\n",
    "y = (x_lin + np.random.randn(101) * 5) * w + b\n",
    "\n",
    "plt.plot(x_lin, y, 'b.', label = 'data points')\n",
    "plt.title(\"Assume we have data points\")\n",
    "plt.legend(loc = 2)\n",
    "plt.show()"
   ]
  },
  {
   "cell_type": "code",
   "execution_count": 85,
   "metadata": {},
   "outputs": [
    {
     "data": {
      "image/png": "[encoded data removed]",
      "text/plain": [
       "<Figure size 432x288 with 1 Axes>"
      ]
     },
     "metadata": {},
     "output_type": "display_data"
    }
   ],
   "source": [
    "y_hat = x_lin * w + b\n",
    "plt.plot(x_lin, y, 'b.', label = 'data')\n",
    "plt.plot(x_lin, y_hat, 'r-', label = 'prediction')\n",
    "plt.title(\"Assume we have data points (And the prediction)\")\n",
    "plt.legend(loc = 2)\n",
    "plt.show()"
   ]
  },
  {
   "cell_type": "code",
   "execution_count": 86,
   "metadata": {},
   "outputs": [],
   "source": [
    "def mean_absolute_error(y, yp):\n",
    "    \"\"\"\n",
    "    計算 MAE\n",
    "    Args:\n",
    "        - y: 實際值\n",
    "        - yp: 預測值\n",
    "    Return:\n",
    "        - mae: MAE\n",
    "    \"\"\"\n",
    "    mae = MAE = sum(abs(y - yp)) / len(y)\n",
    "    return mae\n"
   ]
  },
  {
   "cell_type": "code",
   "execution_count": 87,
   "metadata": {},
   "outputs": [
    {
     "name": "stdout",
     "output_type": "stream",
     "text": [
      "The Mean squared error is 236.329\n",
      "The Mean absolute error is 12.555\n"
     ]
    }
   ],
   "source": [
    "# 執行 Function, 確認有沒有正常執行\n",
    "MSE = mean_squared_error(y, y_hat)\n",
    "MAE = mean_absolute_error(y, y_hat)\n",
    "print(\"The Mean squared error is %.3f\" % (MSE))\n",
    "print(\"The Mean absolute error is %.3f\" % (MAE))"
   ]
  },
  {
   "cell_type": "code",
   "execution_count": null,
   "metadata": {},
   "outputs": [],
   "source": []
  }
 ],
 "metadata": {
  "anaconda-cloud": {},
  "kernelspec": {
   "display_name": "Python 3",
   "language": "python",
   "name": "python3"
  },
  "language_info": {
   "codemirror_mode": {
    "name": "ipython",
    "version": 3
   },
   "file_extension": ".py",
   "mimetype": "text/x-python",
   "name": "python",
   "nbconvert_exporter": "python",
   "pygments_lexer": "ipython3",
   "version": "3.6.5"
  }
 },
 "nbformat": 4,
 "nbformat_minor": 1
}
